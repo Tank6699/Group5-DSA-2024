# LA Data Analysis
## Importing Air Quality for North Hollywood Los Angeles
# importing pandas
import pandas as pd

# Loading Data as a Data Frame
file_path1 = 'combined_LA_Data.csv'
LA = pd.read_csv(file_path1)

# Display the first few rows of the DataFrame
print(LA.head())
## Cleaning the Data 
# Sorting time
LA['time_only'] = LA['datetimeLocal'].str[11:16]
LA['date_only'] = LA['datetimeLocal'].str[0:10]

# Subsetting With only Columns we need
LaClean = LA[['parameter','value','unit','time_only','date_only']]
LaClean
## Subsetting and Grouping
# Using loc to create indexed subset
LaCleanI=LaClean.set_index(['time_only','parameter']).sort_index()
LaCleanI
### Pivot Table of all pollutants
# Pivot Table
PivotLA = LaClean.pivot_table(values='value', index=['time_only', 'parameter'], columns='unit',fill_value=0)
PivotLA
# Pivot table of Individual Pollutants
# Pivot on Pullutants
PivotPolutant = LaClean.pivot_table(values='value', index=['parameter','time_only'], columns='unit',fill_value=0)
PivotPolutant
#### Subset of NO
# Subset rows where parameter is 'NO'
NO_subset = PivotPolutant.xs('no', level='parameter')

# Display the subsetted DataFrame
print(NO_subset)

#### Subset of NOX
NOX_subset = PivotPolutant.xs('nox', level='parameter')
print(NOX_subset)
#### Subset of O,3
O3_subset = PivotPolutant.xs('o3', level='parameter')
print(O3_subset)
#### Subset of pm25
pm25_subset = PivotPolutant.xs('pm25', level='parameter')
print(pm25_subset)
## Graphs
### Graph of pm25 averaged over 24 hours

import matplotlib.pyplot as plt

pm25_subset.reset_index(inplace=True)

# Plotting
plt.figure(figsize=(10, 6))
plt.plot(pm25_subset['time_only'], pm25_subset['ppm'], label='ppm')
plt.plot(pm25_subset['time_only'], pm25_subset['µg/m³'], label='µg/m³')

# Add labels and title
plt.xlabel('Time')
plt.ylabel('Value')
plt.title('PM2.5 Parameter Values Over Time')
plt.legend()
plt.xticks(rotation=45)
plt.tight_layout()

# Show plot
plt.show()

## pm25 Analysis

#### pm25

- pm25 refers to particulate matter with a diameter of 2.5 micrometers or less. It is a major component of air pollution and comes from various sources. Some sources of pm25 particles include:
    - vehicle emissions
    - industial processes
    - wildfires and dust storms
- pm25 particles are especially concerning as they can penetrate deep into the respiratory system and even enter the bloodstream, posing significant respiratory and cardiovascular issues.

#### Looking at the Data
- The PM2.5 levels in µg/m³ are well within typical daily fluctuations, showing some daily variation.
- The PM2.5 values in µg/m³ show some variability throughout the day.
- There is an increase early in the day, peaking slightly above 11 µg/m³.
- A gradual decrease follows, reaching a minimum value of about 8 µg/m³ in the late afternoon.
- The values then rise again towards the end of the day.

#### Likely Causes 
- Temperature inversions, which can trap pollutants close to the ground, typically break down in the afternoon, allowing pollutants to disperse.
- Increased wind speeds can disperse particulate matter, reducing concentrations in a specific area.
### Graph of o3 averaged over 24 hours
import matplotlib.pyplot as plt

# Reset index to flatten the DataFrame for plotting
O3_subset.reset_index(inplace=True)

# Plotting
plt.figure(figsize=(10, 6))
plt.plot(O3_subset['time_only'], O3_subset['ppm'], label='ppm')
plt.plot(O3_subset['time_only'], O3_subset['µg/m³'], label='µg/m³')

# Add labels and title
plt.xlabel('Time')
plt.ylabel('Value')
plt.title('O3 Parameter Values Over Time')
plt.legend()
plt.xticks(rotation=45)
plt.tight_layout()

# Show plot
plt.show()

## o3(Ozone) Analysis

#### 03(Ozone)

- Ozone is a molecule composed of 3 oxygen atoms. It exists in the stratosphere and the troposphere. 
- Ozone forms the ozone layer, which absorbs and scatters the sun's harmful ultraviolet (UV) radiation. This protective layer is crucial for life on Earth, as it reduces the amount of UV radiation reaching the surface, thereby preventing skin cancer, cataracts, and other health issues, as well as protecting ecosystems.
- However, Ozone is a key component of smog and is often monitored as part of air quality indices. High levels of ground-level ozone can lead to poor air quality, especially in urban and industrial areas, posing risks to both human health and the environment.
- Ozone in the troposphere (ground-level ozone) is not directly emitted into the air but is formed through complex chemical reactions between precursor pollutants in the presence of sunlight. The primary sources of these precursor pollutants, which include nitrogen oxides (NOx) and volatile organic compounds.
- Sources of Ozone include:
    - vehicle emissions
    - industial processes
    - Electric Power generation
    - Residential Heating
    - Lightning strikes and microbial activity in the soil

#### Looking at the Data
- The O3 values in ppm start at around 0.02 ppm and show a decrease until early morning.
- From around 06:00 to 12:00, the O3 levels increase significantly, peaking at around 0.05 ppm.
- After 12:00, the O3 levels decrease gradually until the end of the day, reaching close to the initial value of 0.02 ppm

#### Likely Causes 
- The increase in O3 levels during the morning and midday can be attributed to increased sunlight driving these reactions. As sunlight decreases in the late afternoon and evening, the production of ozone slows down, leading to a decrease in O3 levels.
- Activities such as traffic and industrial processes can emit precursor pollutants for ozone formation. The peak in O3 levels during midday might correlate with the highest emissions of these pollutants during the day.
- Temperature and wind patterns can influence O3 levels. Higher temperatures during midday can enhance the photochemical reactions that produce ozone. Wind can disperse or concentrate pollutants, affecting local ozone levels.
### Graph of noX averaged over 24 hours
import matplotlib.pyplot as plt

NOX_subset.reset_index(inplace=True)

# Plotting
plt.figure(figsize=(10, 6))
plt.plot(NOX_subset['time_only'], NOX_subset['ppm'], label='ppm')
plt.plot(NOX_subset['time_only'], NOX_subset['µg/m³'], label='µg/m³')

# Add labels and title
plt.xlabel('Time')
plt.ylabel('Value')
plt.title('NOX Parameter Values Over Time')
plt.legend()
plt.xticks(rotation=45)
plt.tight_layout()

# Show plot
plt.show()

## NoX(Nitrogen Oxide) Analysis

#### Nitrogen oxides (NOx)
- These are a group of gases composed of nitrogen and oxygen. The most common are nitric oxide (NO) and nitrogen dioxide (NO2). NOx gases are primarily found in the troposphere and are significant air pollutants.
- NOx plays a crucial role in the formation of ground-level ozone and smog. It reacts with volatile organic compounds (VOCs) in the presence of sunlight to form ozone. High levels of NOx contribute to the formation of fine particulate matter (PM2.5) and acid rain, which can harm ecosystems, buildings, and human health.
- However, NOx emissions are a major concern for air quality and public health. NOx gases can cause respiratory problems, aggravate asthma, and decrease lung function. They are also associated with other health issues such as heart disease and can reduce visibility due to haze.
- NOx in the troposphere is directly emitted into the air from various sources. It is a primary pollutant that undergoes further reactions in the atmosphere to form secondary pollutants such as ozone and PM2.5. The primary sources of NOx include combustion processes, both from human activities and natural occurrences.
- Sources of NOx include:
    - Vehicle emissions
    - Industrial processes
    - Electric power generation
    - Residential heating
    - Lightning strikes and microbial activity in the soil
### Looking at the Data
- The NOx values in ppm start at around 0.015 ppm and show a slight increase until early morning.
- From around 05:00 to 07:00, the NOx levels increase significantly, peaking at around 0.03 ppm.
- After 07:00, the NOx levels decrease gradually until around 13:00, reaching a low of about 0.01 ppm.
- Following this low, the NOx levels start to rise again from the afternoon and continue to increase gradually until the end of the day, reaching around 0.015 ppm.

### Likely Causes
- The increase in NOx levels during the early morning can be attributed to increased vehicular traffic and industrial activities starting up for the day. These sources emit significant amounts of NOx.
- The peak in NOx levels around 07:00 might correlate with the morning rush hour, when traffic emissions are at their highest.
- The gradual decrease in NOx levels after the morning peak can be due to reduced traffic and industrial emissions as the day progresses, combined with atmospheric dispersion and chemical reactions that reduce NOx concentrations.
- The rise in NOx levels during the late afternoon and evening could be linked to the evening rush hour and increased residential heating activities. Additionally, reduced atmospheric dispersion in the evening can lead to higher concentrations of NOx.
- Natural sources such as microbial activity in the soil and lightning strikes can also contribute to NOx levels but are likely less significant compared to human activities.

### Graph of n0 averaged over 24 hours
import matplotlib.pyplot as plt

# Assuming NO_subset is already defined using PivotPolutant.xs('no', level='parameter')

# Reset index to flatten the DataFrame for plotting
NO_subset.reset_index(inplace=True)

# Plotting
plt.figure(figsize=(10, 6))
plt.plot(NO_subset['time_only'], NO_subset['ppm'], label='ppm')
plt.plot(NO_subset['time_only'], NO_subset['µg/m³'], label='µg/m³')

# Add labels and title
plt.xlabel('Time')
plt.ylabel('Value')
plt.title('NO Parameter Values Over Time')
plt.legend()
plt.xticks(rotation=45)
plt.tight_layout()

# Show plot
plt.show()

## NO (Nitric Oxide) Analysis

#### Nitric Oxide (NO)
- Nitric oxide (NO) is a colorless gas composed of one nitrogen atom and one oxygen atom. It is a significant air pollutant primarily found in the troposphere.
- NO plays a crucial role in the formation of nitrogen dioxide (NO2) and ground-level ozone. It reacts with volatile organic compounds (VOCs) and other pollutants in the presence of sunlight to form ozone. High levels of NO contribute to the formation of fine particulate matter (PM2.5) and acid rain, which can harm ecosystems, buildings, and human health.
- NO emissions are a major concern for air quality and public health. NO can cause respiratory problems, aggravate asthma, and decrease lung function. It is also associated with other health issues such as heart disease and can reduce visibility due to haze.
- NO in the troposphere is directly emitted into the air from various sources. It is a primary pollutant that undergoes further reactions in the atmosphere to form secondary pollutants such as nitrogen dioxide (NO2) and ozone. The primary sources of NO include combustion processes, both from human activities and natural occurrences.
- Sources of NO include:
    - Vehicle emissions
    - Industrial processes
    - Electric power generation
    - Residential heating
    - Lightning strikes and microbial activity in the soil

### Looking at the Data
- The NO values in ppm start at around 0.015 ppm and show a slight increase until early morning.
- From around 05:00 to 07:00, the NO levels increase significantly, peaking at around 0.03 ppm.
- After 07:00, the NO levels decrease gradually until around 13:00, reaching a low of about 0.01 ppm.
- Following this low, the NO levels start to rise again from the afternoon and continue to increase gradually until the end of the day, reaching around 0.015 ppm.

### Likely Causes
- The increase in NO levels during the early morning can be attributed to increased vehicular traffic and industrial activities starting up for the day. These sources emit significant amounts of NO.
- The peak in NO levels around 07:00 might correlate with the morning rush hour, when traffic emissions are at their highest.
- The gradual decrease in NO levels after the morning peak can be due to reduced traffic and industrial emissions as the day progresses, combined with atmospheric dispersion and chemical reactions that reduce NO concentrations.
- The rise in NO levels during the late afternoon and evening could be linked to the evening rush hour and increased residential heating activities. Additionally, reduced atmospheric dispersion in the evening can lead to higher concentrations of NO.
- Natural sources such as microbial activity in the soil and lightning strikes can also contribute to NO levels but are likely less significant compared to human activities.

